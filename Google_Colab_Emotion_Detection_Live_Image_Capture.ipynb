{
  "cells": [
    {
      "cell_type": "markdown",
      "metadata": {
        "id": "view-in-github",
        "colab_type": "text"
      },
      "source": [
        "<a href=\"https://colab.research.google.com/github/arijitdas0211/ML_Python/blob/main/Google_Colab_Emotion_Detection_Live_Image_Capture.ipynb\" target=\"_parent\"><img src=\"https://colab.research.google.com/assets/colab-badge.svg\" alt=\"Open In Colab\"/></a>"
      ]
    },
    {
      "cell_type": "code",
      "execution_count": null,
      "metadata": {
        "id": "Oa3wdy26dvvf"
      },
      "outputs": [],
      "source": [
        "!pip install deepface\n",
        "!pip install opencv-python\n",
        "!pip install matplotlib"
      ]
    },
    {
      "cell_type": "code",
      "execution_count": null,
      "metadata": {
        "id": "VaAinId5dxyd"
      },
      "outputs": [],
      "source": [
        "try:\n",
        "  from IPython.display import display, Javascript, Image\n",
        "  from google.colab.output import eval_js\n",
        "  from base64 import b64decode\n",
        "  import cv2\n",
        "  from deepface import DeepFace\n",
        "  import matplotlib.pyplot as plt\n",
        "  import random\n",
        "  import string\n",
        "except Exception as err:\n",
        "  print(\"Please install all dependencies first...\\n\", str(err))"
      ]
    },
    {
      "cell_type": "code",
      "execution_count": null,
      "metadata": {
        "id": "EPZLa_QP1V1J"
      },
      "outputs": [],
      "source": [
        "def take_photo(filename, quality):\n",
        "  js = Javascript('''\n",
        "    async function takePhoto(quality) {\n",
        "      const div = document.createElement('div');\n",
        "      const capture = document.createElement('button');\n",
        "      capture.textContent = 'Click me to Capture';\n",
        "      div.appendChild(capture);\n",
        "\n",
        "      const video = document.createElement('video');\n",
        "      video.style.display = 'block';\n",
        "      const stream = await navigator.mediaDevices.getUserMedia({video: true});\n",
        "\n",
        "      document.body.appendChild(div);\n",
        "      div.appendChild(video);\n",
        "      video.srcObject = stream;\n",
        "      await video.play();\n",
        "\n",
        "      // Resize the output to fit the video element.\n",
        "      google.colab.output.setIframeHeight(document.documentElement.scrollHeight, true);\n",
        "\n",
        "      // Wait for Capture to be clicked.\n",
        "      await new Promise((resolve) => capture.onclick = resolve);\n",
        "\n",
        "      const canvas = document.createElement('canvas');\n",
        "      canvas.width = video.videoWidth;\n",
        "      canvas.height = video.videoHeight;\n",
        "      canvas.getContext('2d').drawImage(video, 0, 0);\n",
        "      stream.getVideoTracks()[0].stop();\n",
        "      div.remove();\n",
        "      return canvas.toDataURL('image/jpeg', quality);\n",
        "    }\n",
        "    ''')\n",
        "  display(js)\n",
        "  data = eval_js('takePhoto({})'.format(quality))\n",
        "  binary = b64decode(data.split(',')[1])\n",
        "  with open(filename, 'wb') as f:\n",
        "    f.write(binary)\n",
        "  return filename"
      ]
    },
    {
      "cell_type": "code",
      "source": [
        "def generate_random_filename(length: int = 10, extension: str = \"jpg\") -> str:\n",
        "    characters = string.ascii_letters + string.digits\n",
        "    random_string = \"\".join(random.choice(characters) for _ in range(length))\n",
        "    if extension:\n",
        "        if \".\" in extension:\n",
        "            pieces = extension.split(\".\")\n",
        "            last_extension = pieces[-1]\n",
        "            extension = last_extension\n",
        "        return f\"{random_string}.{extension}\"\n",
        "    return random_string"
      ],
      "metadata": {
        "id": "qp8RSUK5vs2s"
      },
      "execution_count": null,
      "outputs": []
    },
    {
      "cell_type": "code",
      "execution_count": null,
      "metadata": {
        "id": "ZrVJHOOs1V1K"
      },
      "outputs": [],
      "source": [
        "try:\n",
        "  filename = take_photo((f'{generate_random_filename()}'), 1)\n",
        "  print('Saved to {}'.format(filename))\n",
        "  display(Image(filename))\n",
        "except Exception as err:\n",
        "  print(str(err))"
      ]
    },
    {
      "cell_type": "code",
      "execution_count": null,
      "metadata": {
        "id": "rqLwilxmeF_F"
      },
      "outputs": [],
      "source": [
        "try:\n",
        "  img = cv2.imread(f'/content/{filename}')\n",
        "  plt.imshow(cv2.cvtColor(img, cv2.COLOR_BGR2RGB))\n",
        "  print('Image Found...\\n')\n",
        "except Exception as err:\n",
        "  print('Please Capture and upload image first...\\n',str(err))"
      ]
    },
    {
      "cell_type": "code",
      "execution_count": null,
      "metadata": {
        "id": "KkYzOFH4epFo"
      },
      "outputs": [],
      "source": [
        "try:\n",
        "  predictions = DeepFace.analyze(img_path = img, actions = ['emotion'], detector_backend = 'mtcnn')\n",
        "  print(f\"\\nAccording to Deepface, the face emotion is:- {predictions[0]['dominant_emotion'].title()} \\n\")\n",
        "  print(f\"All emotion parameters are:-\\n{predictions[0]}\")\n",
        "except Exception as err:\n",
        "  print(err)\n",
        "  print('Ohh! Face is not detected clearly. Please try to capture again...!!')"
      ]
    }
  ],
  "metadata": {
    "colab": {
      "provenance": [],
      "authorship_tag": "ABX9TyOrciOgqbWTC2SrNqlvt1xv",
      "include_colab_link": true
    },
    "kernelspec": {
      "display_name": "Python 3",
      "name": "python3"
    },
    "language_info": {
      "name": "python"
    }
  },
  "nbformat": 4,
  "nbformat_minor": 0
}