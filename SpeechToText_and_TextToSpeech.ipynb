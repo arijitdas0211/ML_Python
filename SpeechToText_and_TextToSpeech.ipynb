{
  "cells": [
    {
      "cell_type": "markdown",
      "metadata": {
        "id": "view-in-github",
        "colab_type": "text"
      },
      "source": [
        "<a href=\"https://colab.research.google.com/github/arijitdas0211/ML_Python/blob/main/SpeechToText_and_TextToSpeech.ipynb\" target=\"_parent\"><img src=\"https://colab.research.google.com/assets/colab-badge.svg\" alt=\"Open In Colab\"/></a>"
      ]
    },
    {
      "cell_type": "code",
      "source": [
        "!pip -q install pydub\n",
        "!pip install ffmpeg-python\n",
        "!pip install SpeechRecognition\n",
        "!pip install gTTS"
      ],
      "metadata": {
        "id": "C0LM_o-xApdi"
      },
      "execution_count": null,
      "outputs": []
    },
    {
      "cell_type": "code",
      "source": [
        "from IPython.display import Javascript, Audio, display\n",
        "from google.colab import output\n",
        "from base64 import b64decode\n",
        "from io import BytesIO\n",
        "import ffmpeg\n",
        "# import espeakng\n",
        "import speech_recognition as sr\n",
        "# import pyttsx3\n",
        "from gtts import gTTS\n",
        "import random\n",
        "import string"
      ],
      "metadata": {
        "id": "O2j5gUbNrurr"
      },
      "execution_count": null,
      "outputs": []
    },
    {
      "cell_type": "code",
      "source": [
        "RECORD = \"\"\"\n",
        "const sleep  = time => new Promise(resolve => setTimeout(resolve, time))\n",
        "const b2text = blob => new Promise(resolve => {\n",
        "  const reader = new FileReader()\n",
        "  reader.onloadend = e => resolve(e.srcElement.result)\n",
        "  reader.readAsDataURL(blob)\n",
        "})\n",
        "var record = time => new Promise(async resolve => {\n",
        "  stream = await navigator.mediaDevices.getUserMedia({ audio: true })\n",
        "  recorder = new MediaRecorder(stream)\n",
        "  chunks = []\n",
        "  recorder.ondataavailable = e => chunks.push(e.data)\n",
        "  recorder.start()\n",
        "  await sleep(time)\n",
        "  recorder.onstop = async ()=>{\n",
        "    blob = new Blob(chunks)\n",
        "    text = await b2text(blob)\n",
        "    resolve(text)\n",
        "  }\n",
        "  recorder.stop()\n",
        "})\n",
        "\"\"\""
      ],
      "metadata": {
        "id": "pkDVBJ7QvWax"
      },
      "execution_count": null,
      "outputs": []
    },
    {
      "cell_type": "code",
      "source": [
        "def fix_riff_header(binary):\n",
        "  process = (ffmpeg\n",
        "    .input('pipe:0')\n",
        "    .output('pipe:1', format='wav')\n",
        "    .run_async(pipe_stdin=True, pipe_stdout=True, pipe_stderr=True, quiet=True, overwrite_output=True)\n",
        "  )\n",
        "  output, err = process.communicate(input=binary)\n",
        "\n",
        "  riff_chunk_size = len(output) - 8\n",
        "  # Break up the chunk size into four bytes, held in b.\n",
        "  q = riff_chunk_size\n",
        "  b = []\n",
        "  for i in range(4):\n",
        "      q, r = divmod(q, 256)\n",
        "      b.append(r)\n",
        "\n",
        "  # Replace bytes 4:8 in proc.stdout with the actual size of the RIFF chunk.\n",
        "  riff = output[:4] + bytes(b) + output[8:]\n",
        "  return riff"
      ],
      "metadata": {
        "id": "9Ujqoe00GHe1"
      },
      "execution_count": null,
      "outputs": []
    },
    {
      "cell_type": "code",
      "source": [
        "def generate_random_filename(length: int = 5, extension: str = \"wav\") -> str:\n",
        "    characters = string.ascii_letters + string.digits\n",
        "    random_string = \"\".join(random.choice(characters) for _ in range(length))\n",
        "    if extension:\n",
        "        if \".\" in extension:\n",
        "            pieces = extension.split(\".\")\n",
        "            last_extension = pieces[-1]\n",
        "            extension = last_extension\n",
        "        return f\"{random_string}.{extension}\"\n",
        "    return random_string"
      ],
      "metadata": {
        "id": "yMDxdGJ9XYuQ"
      },
      "execution_count": null,
      "outputs": []
    },
    {
      "cell_type": "code",
      "source": [
        "def record(filename, sec):\n",
        "  com = \"Listening.\"\n",
        "  display(Javascript(RECORD), com)\n",
        "  s = output.eval_js('record(%d)' % (sec*1200))\n",
        "  b = b64decode(s.split(',')[1])\n",
        "  b = fix_riff_header(b)\n",
        "  print(com.replace(\"Listening\",\"Got it\"))\n",
        "  with open(filename,'wb') as f:\n",
        "    f.write(b)\n",
        "  return filename"
      ],
      "metadata": {
        "id": "f-kiB7D4wCLw"
      },
      "execution_count": null,
      "outputs": []
    },
    {
      "cell_type": "code",
      "source": [
        "random_file = generate_random_filename()\n",
        "file_name = record(f'inputAudio_{random_file}', 4)"
      ],
      "metadata": {
        "id": "adh-TSTTxkRT"
      },
      "execution_count": null,
      "outputs": []
    },
    {
      "cell_type": "code",
      "source": [
        "recognize = sr.Recognizer()\n",
        "with sr.AudioFile(f'/content/{file_name}') as source:\n",
        "    # listen for the data (load audio to memory)\n",
        "    audio = recognize.record(source)\n",
        "\n",
        "# while True:\n",
        "try:\n",
        "  audio_str = recognize.recognize_google(audio_data=audio)\n",
        "  audio_str = audio_str.lower()\n",
        "except Exception as err:\n",
        "  audio_str = ''\n",
        "  print('Recognizer error. Audio String is Empty.', err)"
      ],
      "metadata": {
        "id": "MvcZMFFAxWTd"
      },
      "execution_count": null,
      "outputs": []
    },
    {
      "cell_type": "code",
      "source": [
        "if audio_str == '':\n",
        "    audio_str = \"Sorry, nothing to say. You haven't spoke anything.\"\n",
        "else:\n",
        "    print(f\"Recognized text is:- {audio_str.capitalize()}\\n\")\n",
        "    def gTTsAudio(filename=f'/content/outputAudio_{random_file}'):\n",
        "      gtts_obj = gTTS(text=audio_str, lang='en', slow=True)\n",
        "      gtts_obj.save(filename)\n",
        "      return filename\n",
        "\n",
        "Audio(gTTsAudio(), autoplay=True)"
      ],
      "metadata": {
        "id": "7Y58NhWfz8HM"
      },
      "execution_count": null,
      "outputs": []
    }
  ],
  "metadata": {
    "colab": {
      "provenance": [],
      "include_colab_link": true
    },
    "kernelspec": {
      "display_name": "Python 3",
      "name": "python3"
    },
    "language_info": {
      "name": "python"
    }
  },
  "nbformat": 4,
  "nbformat_minor": 0
}